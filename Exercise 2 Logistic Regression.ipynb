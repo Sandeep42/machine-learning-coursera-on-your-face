{
 "cells": [
  {
   "cell_type": "markdown",
   "metadata": {},
   "source": [
    "## Logistic Regression"
   ]
  },
  {
   "cell_type": "code",
   "execution_count": 1,
   "metadata": {
    "collapsed": false
   },
   "outputs": [
    {
     "name": "stdout",
     "output_type": "stream",
     "text": [
      "Populating the interactive namespace from numpy and matplotlib\n"
     ]
    }
   ],
   "source": [
    "import numpy as np\n",
    "import pandas as pd\n",
    "import matplotlib.pyplot as plt\n",
    "import seaborn as sns\n",
    "import scipy as sp\n",
    "from scipy.io import loadmat\n",
    "from scipy.optimize import minimize\n",
    "# some settings\n",
    "from sklearn.preprocessing import PolynomialFeatures\n",
    "import matplotlib as mpl\n",
    "%pylab inline\n",
    "pylab.rcParams['figure.figsize'] = (12, 8)\n",
    "plt.style.use('ggplot')"
   ]
  },
  {
   "cell_type": "markdown",
   "metadata": {
    "collapsed": false
   },
   "source": [
    "## Logistic regression \n",
    "\n",
    "#### $$ h_{\\theta}(x) = g(\\theta^{T}x)$$\n",
    "#### $$ g(z)=\\frac{1}{1+e^{−z}} $$\n",
    "#### $$ J(\\theta) = \\frac{1}{m}\\sum_{i=1}^{m}\\big[-y^{(i)}\\, log\\,( h_\\theta\\,(x^{(i)}))-(1-y^{(i)})\\,log\\,(1-h_\\theta(x^{(i)}))\\big]$$\n",
    "#### $$ J(\\theta) = \\frac{1}{m}\\big((\\,log\\,(g(X\\theta))^Ty+(\\,log\\,(1-g(X\\theta))^T(1-y)\\big)$$"
   ]
  },
  {
   "cell_type": "code",
   "execution_count": 2,
   "metadata": {
    "collapsed": true
   },
   "outputs": [],
   "source": [
    "def sigmoid(z):\n",
    "    return(1 / (1 + np.exp(-z)))"
   ]
  },
  {
   "cell_type": "code",
   "execution_count": 3,
   "metadata": {
    "collapsed": true
   },
   "outputs": [],
   "source": [
    "def cost_function(theta, X, y):\n",
    "    m = y.size\n",
    "    h = sigmoid(X.dot(theta))\n",
    "    J = -1*(np.log(h).T.dot(y)+ np.log(1-h).T.dot(1-y))/m\n",
    "    return J[0]"
   ]
  },
  {
   "cell_type": "markdown",
   "metadata": {},
   "source": [
    "#### $$ \\frac{\\delta J(\\theta)}{\\delta\\theta_{j}} = \\frac{1}{m}\\sum_{i=1}^{m} ( h_\\theta (x^{(i)})-y^{(i)})x^{(i)}_{j} $$ \n",
    "\n",
    "#### $$ \\frac{\\delta J(\\theta)}{\\delta\\theta_{j}} = \\frac{1}{m} X^T(g(X\\theta)-y)$$\n"
   ]
  },
  {
   "cell_type": "code",
   "execution_count": 4,
   "metadata": {
    "collapsed": true
   },
   "outputs": [],
   "source": [
    "def gradientLog(theta, X, y):\n",
    "    m = y.size\n",
    "    h = sigmoid(X.dot(theta_in.reshape(-1,1)))\n",
    "    grad =1/(m)*X.T.dot(h-y)\n",
    "    return(grad.flatten())"
   ]
  },
  {
   "cell_type": "code",
   "execution_count": 6,
   "metadata": {
    "collapsed": true
   },
   "outputs": [],
   "source": [
    "data = pd.read_csv('res/ex2data1.txt',header= None, names=['ExamScore1','ExamScore2','Admitted'])"
   ]
  },
  {
   "cell_type": "code",
   "execution_count": 7,
   "metadata": {
    "collapsed": false
   },
   "outputs": [],
   "source": [
    "# append bias terms\n",
    "X = np.c_[np.ones(data.shape[0]),data.ExamScore1.values, data.ExamScore2.values]\n",
    "y = np.c_[data.Admitted.values]"
   ]
  },
  {
   "cell_type": "code",
   "execution_count": 8,
   "metadata": {
    "collapsed": false
   },
   "outputs": [],
   "source": [
    "theta_in = np.zeros((X.shape[1],1))\n",
    "cost = cost_function(theta_in,X,y)\n",
    "grad = gradientLog(theta_in, X,y)"
   ]
  },
  {
   "cell_type": "code",
   "execution_count": 9,
   "metadata": {
    "collapsed": false
   },
   "outputs": [
    {
     "name": "stdout",
     "output_type": "stream",
     "text": [
      "[ 0.69314718]\n"
     ]
    }
   ],
   "source": [
    "print cost"
   ]
  },
  {
   "cell_type": "markdown",
   "metadata": {},
   "source": [
    "### Optimization\n",
    "\n",
    "[scipy-optimize](http://docs.scipy.org/doc/scipy/reference/optimize.html)"
   ]
  },
  {
   "cell_type": "code",
   "execution_count": 132,
   "metadata": {
    "collapsed": false
   },
   "outputs": [],
   "source": [
    "def optimizeTheta(theta_in,X,y):\n",
    "    result = sp.optimize.fmin(cost_function, theta_in, (X,y),maxiter=10000)\n",
    "    return result"
   ]
  },
  {
   "cell_type": "code",
   "execution_count": 11,
   "metadata": {
    "collapsed": false
   },
   "outputs": [
    {
     "name": "stdout",
     "output_type": "stream",
     "text": [
      "Optimization terminated successfully.\n",
      "         Current function value: 0.203498\n",
      "         Iterations: 157\n",
      "         Function evaluations: 287\n"
     ]
    }
   ],
   "source": [
    "result = optimizeTheta(theta_in,X,y)"
   ]
  },
  {
   "cell_type": "code",
   "execution_count": 12,
   "metadata": {
    "collapsed": false
   },
   "outputs": [
    {
     "name": "stdout",
     "output_type": "stream",
     "text": [
      "[-25.16130062   0.20623142   0.20147143]\n"
     ]
    }
   ],
   "source": [
    "print result"
   ]
  },
  {
   "cell_type": "code",
   "execution_count": 13,
   "metadata": {
    "collapsed": true
   },
   "outputs": [],
   "source": [
    "def predict(theta, X, threshold=0.5):\n",
    "    p = sigmoid(X.dot(theta.T)) >= threshold\n",
    "    return p.astype('int')"
   ]
  },
  {
   "cell_type": "code",
   "execution_count": 15,
   "metadata": {
    "collapsed": false
   },
   "outputs": [
    {
     "data": {
      "text/plain": [
       "<matplotlib.text.Text at 0x1dd3eda0>"
      ]
     },
     "execution_count": 15,
     "metadata": {},
     "output_type": "execute_result"
    },
    {
     "data": {
      "image/png": "[encoded data removed]",
      "text/plain": [
       "<matplotlib.figure.Figure at 0x1d8812b0>"
      ]
     },
     "metadata": {},
     "output_type": "display_data"
    }
   ],
   "source": [
    "yy = result[0]* X[:,0] + result[1]* X[:,1] + result[2] * X[:,2]\n",
    "pos = data.Admitted == 1\n",
    "neg = data.Admitted == 0\n",
    "plt.scatter(data.ExamScore1[pos], data.ExamScore2[pos], s= 45, c= 'g',marker='^',label= 'Admitted')\n",
    "plt.scatter(data.ExamScore1[neg], data.ExamScore2[neg], s= 45, c= 'r',marker='v',label='Not admitted')\n",
    "boundary_xs = np.array([np.min(X[:,1]), np.max(X[:,1])])\n",
    "boundary_ys = (-1./result[2])*(result[0] + result[1]*boundary_xs)\n",
    "plt.plot(boundary_xs,boundary_ys,'b-',label='Decision Boundary')\n",
    "plt.legend()\n",
    "plt.xlabel('Exam score 1')\n",
    "plt.ylabel('Exam score 2')"
   ]
  },
  {
   "cell_type": "markdown",
   "metadata": {},
   "source": [
    "## Regularized Logistic regression"
   ]
  },
  {
   "cell_type": "markdown",
   "metadata": {},
   "source": [
    "$$ \n",
    "\\begin{align*}\n",
    "J(\\theta) = - \\frac{1}{m} \\sum_{i=1}^m \\large[ y^{(i)}\\ \\log (h_\\theta (x^{(i)})) + (1 - y^{(i)})\\ \\log (1 - h_\\theta(x^{(i)}))\\large] + \\frac{\\lambda}{2m}\\sum_{j=1}^n \\theta_j^2\n",
    "\\end{align*}\n",
    "$$\n",
    "\n",
    "\n",
    "$$ \n",
    "\\begin{align*}\n",
    "& \\text{Repeat}\\ \\lbrace \\newline\n",
    "& \\ \\ \\ \\ \\theta_0 := \\theta_0 - \\alpha\\ \\frac{1}{m}\\ \\sum_{i=1}^m (h_\\theta(x^{(i)}) - y^{(i)})x_0^{(i)} \\newline\n",
    "& \\ \\ \\ \\ \\theta_j := \\theta_j - \\alpha\\ \\left[ \\left( \\frac{1}{m}\\ \\sum_{i=1}^m (h_\\theta(x^{(i)}) - y^{(i)})x_j^{(i)} \\right) + \\frac{\\lambda}{m}\\theta_j \\right] &\\ \\ \\ \\ \\ \\ \\ \\ \\ \\ j \\in \\lbrace 1,2...n\\rbrace\\newline\n",
    "& \\rbrace\n",
    "\\end{align*}\n",
    "$$\n",
    "\n",
    "\n",
    "A small modification leads to..\n",
    "$$\n",
    "\\theta_j := \\theta_j(1 - \\alpha\\frac{\\lambda}{m}) - \\alpha\\frac{1}{m}\\sum_{i=1}^m(h_\\theta(x^{(i)}) - y^{(i)})x_j^{(i)}\n",
    "$$\n",
    "\n",
    "You don't typically have to write the gradient, scipy will do that automatically for you. \n",
    "\n",
    "(Oh my, what was I thinking? You have to write the gradient, the derivative will have the regularization in it. How will scipy do that automatically, huh?)\n",
    "\n",
    "It worked for ordinary logistic regression because it is a simple cost function (convex optimization problem) and scipy would be able to find approximately close minima."
   ]
  },
  {
   "cell_type": "code",
   "execution_count": 16,
   "metadata": {
    "collapsed": true
   },
   "outputs": [],
   "source": [
    "# define regularization\n",
    "reg = 0.3"
   ]
  },
  {
   "cell_type": "code",
   "execution_count": 113,
   "metadata": {
    "collapsed": false
   },
   "outputs": [],
   "source": [
    "def cost_function_reg(theta, X, y, reg = reg):\n",
    "    m = y.size\n",
    "    h = sigmoid(X.dot(theta))\n",
    "    J = (-1*(np.log(h).T.dot(y)+ np.log(1-h).T.dot(1-y))/m) + ((reg * np.sum(np.square(theta[1:])))/(2*m))\n",
    "    return J[0]"
   ]
  },
  {
   "cell_type": "code",
   "execution_count": 84,
   "metadata": {
    "collapsed": false
   },
   "outputs": [],
   "source": [
    "def optimizeThetaReg(theta_in,X,y):\n",
    "    result = sp.optimize.fmin(cost_function_reg, theta_in, (X,y),maxiter =1000)\n",
    "    return result"
   ]
  },
  {
   "cell_type": "code",
   "execution_count": 85,
   "metadata": {
    "collapsed": false
   },
   "outputs": [
    {
     "name": "stdout",
     "output_type": "stream",
     "text": [
      "Optimization terminated successfully.\n",
      "         Current function value: 0.690583\n",
      "         Iterations: 104\n",
      "         Function evaluations: 181\n"
     ]
    },
    {
     "data": {
      "text/plain": [
       "array([-0.01743325, -0.26539189, -0.01161251])"
      ]
     },
     "execution_count": 85,
     "metadata": {},
     "output_type": "execute_result"
    }
   ],
   "source": [
    "#test\n",
    "reg = 0\n",
    "optimizeThetaReg(theta_in,X,y)"
   ]
  },
  {
   "cell_type": "markdown",
   "metadata": {},
   "source": [
    "## Visualization"
   ]
  },
  {
   "cell_type": "code",
   "execution_count": 86,
   "metadata": {
    "collapsed": true
   },
   "outputs": [],
   "source": [
    "data = pd.read_csv('res/ex2data2.txt', header= None, names = ['Test1','Test2','result'])"
   ]
  },
  {
   "cell_type": "code",
   "execution_count": 87,
   "metadata": {
    "collapsed": false
   },
   "outputs": [
    {
     "data": {
      "text/plain": [
       "<matplotlib.text.Text at 0x1fc5d390>"
      ]
     },
     "execution_count": 87,
     "metadata": {},
     "output_type": "execute_result"
    },
    {
     "data": {
      "image/png": "[encoded data removed]",
      "text/plain": [
       "<matplotlib.figure.Figure at 0x1da57d68>"
      ]
     },
     "metadata": {},
     "output_type": "display_data"
    }
   ],
   "source": [
    "pos = data.result == 1\n",
    "neg = data.result == 0\n",
    "plt.scatter(data.Test1[pos], data.Test2[pos], s= 35, c= 'g',marker='^',label= 'Positive')\n",
    "plt.scatter(data.Test1[neg], data.Test2[neg], s= 35, c= 'r',marker='v',label='Negative')\n",
    "plt.legend()\n",
    "plt.xlabel('Test 1')\n",
    "plt.ylabel('Test 2')"
   ]
  },
  {
   "cell_type": "code",
   "execution_count": 88,
   "metadata": {
    "collapsed": true
   },
   "outputs": [],
   "source": [
    "X = np.c_[np.ones(data.shape[0]),data.Test1.values, data.Test2.values]\n",
    "y = np.c_[data.result.values]"
   ]
  },
  {
   "cell_type": "markdown",
   "metadata": {
    "collapsed": true
   },
   "source": [
    "Now, we will map the given features in to different order polynomial features."
   ]
  },
  {
   "cell_type": "code",
   "execution_count": 89,
   "metadata": {
    "collapsed": false
   },
   "outputs": [],
   "source": [
    "p = PolynomialFeatures(6)\n",
    "poly = p.fit_transform(data.iloc[:,0:2])\n",
    "reg = 1"
   ]
  },
  {
   "cell_type": "code",
   "execution_count": 90,
   "metadata": {
    "collapsed": false
   },
   "outputs": [
    {
     "name": "stdout",
     "output_type": "stream",
     "text": [
      "Warning: Maximum number of iterations has been exceeded.\n"
     ]
    }
   ],
   "source": [
    "initial_theta = np.zeros(poly.shape[1])\n",
    "fit_coef = optimizeThetaReg(initial_theta,poly, y)"
   ]
  },
  {
   "cell_type": "code",
   "execution_count": 91,
   "metadata": {
    "collapsed": false
   },
   "outputs": [
    {
     "data": {
      "text/plain": [
       "array([ 0.09825625, -0.05816431,  0.40454223, -1.17992861,  0.19122046,\n",
       "       -0.07195087, -0.07769308, -0.19346836,  0.04011943,  0.04098739,\n",
       "       -0.41043989,  0.46907498,  0.95748747, -0.63115279, -0.32072333,\n",
       "       -0.25332365,  0.15354664,  0.02277994,  0.08946235,  0.11973378,\n",
       "       -0.15824304, -0.05426605, -0.20430161,  0.29093254,  0.3655664 ,\n",
       "        0.07702111,  0.24283049, -0.14885923])"
      ]
     },
     "execution_count": 91,
     "metadata": {},
     "output_type": "execute_result"
    }
   ],
   "source": [
    "fit_coef"
   ]
  },
  {
   "cell_type": "code",
   "execution_count": 92,
   "metadata": {
    "collapsed": false
   },
   "outputs": [],
   "source": [
    "prob = sigmoid(fit_coef.dot(poly.T))\n",
    "# bad accu, bad solution overall"
   ]
  },
  {
   "cell_type": "markdown",
   "metadata": {},
   "source": [
    "I think my intuition about not calculating the gradients isn't right. Looks like we have to write the gradient to solve this problem."
   ]
  },
  {
   "cell_type": "markdown",
   "metadata": {},
   "source": [
    "#### $$ \\frac{\\delta J(\\theta)}{\\delta\\theta_{j}} = \\frac{1}{m}\\sum_{i=1}^{m} ( h_\\theta (x^{(i)})-y^{(i)})x^{(i)}_{j} + \\frac{\\lambda}{m}\\theta_{j}$$ \n",
    "\n",
    "#### $$ \\frac{\\delta J(\\theta)}{\\delta\\theta_{j}} = \\frac{1}{m} X^T(g(X\\theta)-y) + \\frac{\\lambda}{m}\\theta_{j}$$"
   ]
  },
  {
   "cell_type": "code",
   "execution_count": 156,
   "metadata": {
    "collapsed": false
   },
   "outputs": [],
   "source": [
    "def gradientLogReg(theta,X,y,reg):\n",
    "    m = y.size\n",
    "    h = sigmoid(X.dot(theta.reshape(-1,1)))\n",
    "    # don't reg intercept, how do i vectorize this?\n",
    "    grad = (X.T.dot(h-y))/m + (reg) * (np.r_[[[0]],theta[1:].reshape(-1,1)])/m\n",
    "    return grad.flatten()"
   ]
  },
  {
   "cell_type": "code",
   "execution_count": 159,
   "metadata": {
    "collapsed": false
   },
   "outputs": [],
   "source": [
    "reg= 100\n",
    "result = minimize(cost_function_reg, initial_theta, args=(poly, y, reg), \n",
    "                  method= None, jac=gradientLogReg, options={'maxiter':10000})"
   ]
  },
  {
   "cell_type": "code",
   "execution_count": 161,
   "metadata": {
    "collapsed": false
   },
   "outputs": [
    {
     "data": {
      "text/plain": [
       "61.016949152542374"
      ]
     },
     "execution_count": 161,
     "metadata": {},
     "output_type": "execute_result"
    }
   ],
   "source": [
    "#test\n",
    "100.0*sum(predict(result.x, poly) == y.ravel())/y.size"
   ]
  },
  {
   "cell_type": "markdown",
   "metadata": {},
   "source": [
    "## Regularization accuracy\n",
    "\n",
    "reg = 0 probable overfitting\n",
    "\n",
    "reg = 1 optimal\n",
    "\n",
    "reg=100 highly regularized, underfit"
   ]
  },
  {
   "cell_type": "code",
   "execution_count": 183,
   "metadata": {
    "collapsed": false
   },
   "outputs": [
    {
     "name": "stdout",
     "output_type": "stream",
     "text": [
      "Accuracy for regularization= 0.000000 is 91.525424\n",
      "Accuracy for regularization= 1.000000 is 83.050847\n",
      "Accuracy for regularization= 10.000000 is 74.576271\n",
      "Accuracy for regularization= 15.000000 is 69.491525\n",
      "Accuracy for regularization= 30.000000 is 67.796610\n",
      "Accuracy for regularization= 45.000000 is 68.644068\n",
      "Accuracy for regularization= 55.000000 is 66.101695\n",
      "Accuracy for regularization= 65.000000 is 64.406780\n",
      "Accuracy for regularization= 75.000000 is 64.406780\n",
      "Accuracy for regularization= 85.000000 is 63.559322\n",
      "Accuracy for regularization= 100.000000 is 61.016949\n"
     ]
    },
    {
     "data": {
      "image/png": "[encoded data removed]",
      "text/plain": [
       "<matplotlib.figure.Figure at 0x201765f8>"
      ]
     },
     "metadata": {},
     "output_type": "display_data"
    }
   ],
   "source": [
    "for i, reg in enumerate([0,1,10,15,30,45,55,65,75,85,100]):\n",
    "    reg = reg\n",
    "    result = minimize(cost_function_reg, initial_theta, args=(poly, y, reg), \n",
    "                  method= None, jac=gradientLogReg, options={'maxiter':10000})\n",
    "    accuracy = 100.0*sum(predict(result.x, poly) == y.ravel())/y.size    \n",
    "    print('Accuracy for regularization= %f is %f') %(reg,accuracy)\n",
    "    plt.scatter(x=accuracy,y=reg,marker='x')    "
   ]
  }
 ],
 "metadata": {
  "kernelspec": {
   "display_name": "Python 2",
   "language": "python",
   "name": "python2"
  },
  "language_info": {
   "codemirror_mode": {
    "name": "ipython",
    "version": 2
   },
   "file_extension": ".py",
   "mimetype": "text/x-python",
   "name": "python",
   "nbconvert_exporter": "python",
   "pygments_lexer": "ipython2",
   "version": "2.7.11"
  }
 },
 "nbformat": 4,
 "nbformat_minor": 0
}
